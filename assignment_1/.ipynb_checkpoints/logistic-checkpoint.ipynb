{
 "cells": [
  {
   "cell_type": "markdown",
   "metadata": {},
   "source": [
    "# Logistic Regression"
   ]
  },
  {
   "cell_type": "markdown",
   "metadata": {},
   "source": [
    "Import packages "
   ]
  },
  {
   "cell_type": "code",
   "execution_count": 1,
   "metadata": {},
   "outputs": [],
   "source": [
    "import numpy as np\n",
    "import pandas as pd\n",
    "import matplotlib.pyplot as plt"
   ]
  },
  {
   "cell_type": "code",
   "execution_count": 2,
   "metadata": {},
   "outputs": [
    {
     "data": {
      "text/html": [
       "<div>\n",
       "<style scoped>\n",
       "    .dataframe tbody tr th:only-of-type {\n",
       "        vertical-align: middle;\n",
       "    }\n",
       "\n",
       "    .dataframe tbody tr th {\n",
       "        vertical-align: top;\n",
       "    }\n",
       "\n",
       "    .dataframe thead th {\n",
       "        text-align: right;\n",
       "    }\n",
       "</style>\n",
       "<table border=\"1\" class=\"dataframe\">\n",
       "  <thead>\n",
       "    <tr style=\"text-align: right;\">\n",
       "      <th></th>\n",
       "      <th>x1</th>\n",
       "      <th>x2</th>\n",
       "    </tr>\n",
       "  </thead>\n",
       "  <tbody>\n",
       "    <tr>\n",
       "      <th>0</th>\n",
       "      <td>1.343250</td>\n",
       "      <td>-1.331148</td>\n",
       "    </tr>\n",
       "    <tr>\n",
       "      <th>1</th>\n",
       "      <td>1.820553</td>\n",
       "      <td>-0.634668</td>\n",
       "    </tr>\n",
       "    <tr>\n",
       "      <th>2</th>\n",
       "      <td>0.986321</td>\n",
       "      <td>-1.888576</td>\n",
       "    </tr>\n",
       "    <tr>\n",
       "      <th>3</th>\n",
       "      <td>1.944373</td>\n",
       "      <td>-1.635452</td>\n",
       "    </tr>\n",
       "    <tr>\n",
       "      <th>4</th>\n",
       "      <td>0.976734</td>\n",
       "      <td>-1.353315</td>\n",
       "    </tr>\n",
       "  </tbody>\n",
       "</table>\n",
       "</div>"
      ],
      "text/plain": [
       "         x1        x2\n",
       "0  1.343250 -1.331148\n",
       "1  1.820553 -0.634668\n",
       "2  0.986321 -1.888576\n",
       "3  1.944373 -1.635452\n",
       "4  0.976734 -1.353315"
      ]
     },
     "execution_count": 2,
     "metadata": {},
     "output_type": "execute_result"
    }
   ],
   "source": [
    "x_path = 'data/x.txt'\n",
    "y_path = 'data/y.txt'\n",
    "\n",
    "df_x = pd.read_csv(x_path, header=None, names=[\"x1\",\"x2\"], sep='\\s\\s+', engine='python')\n",
    "df_y = pd.read_csv(y_path, header=None, names=[\"y\"], sep='\\s\\s+', engine='python')\n",
    "\n",
    "df_y = df_y.astype(int)\n",
    "df_x.head()"
   ]
  },
  {
   "cell_type": "code",
   "execution_count": 3,
   "metadata": {},
   "outputs": [
    {
     "data": {
      "text/html": [
       "<div>\n",
       "<style scoped>\n",
       "    .dataframe tbody tr th:only-of-type {\n",
       "        vertical-align: middle;\n",
       "    }\n",
       "\n",
       "    .dataframe tbody tr th {\n",
       "        vertical-align: top;\n",
       "    }\n",
       "\n",
       "    .dataframe thead th {\n",
       "        text-align: right;\n",
       "    }\n",
       "</style>\n",
       "<table border=\"1\" class=\"dataframe\">\n",
       "  <thead>\n",
       "    <tr style=\"text-align: right;\">\n",
       "      <th></th>\n",
       "      <th>x1</th>\n",
       "      <th>x2</th>\n",
       "    </tr>\n",
       "  </thead>\n",
       "  <tbody>\n",
       "    <tr>\n",
       "      <th>0</th>\n",
       "      <td>1.343250</td>\n",
       "      <td>-1.331148</td>\n",
       "    </tr>\n",
       "    <tr>\n",
       "      <th>1</th>\n",
       "      <td>1.820553</td>\n",
       "      <td>-0.634668</td>\n",
       "    </tr>\n",
       "    <tr>\n",
       "      <th>2</th>\n",
       "      <td>0.986321</td>\n",
       "      <td>-1.888576</td>\n",
       "    </tr>\n",
       "    <tr>\n",
       "      <th>3</th>\n",
       "      <td>1.944373</td>\n",
       "      <td>-1.635452</td>\n",
       "    </tr>\n",
       "    <tr>\n",
       "      <th>4</th>\n",
       "      <td>0.976734</td>\n",
       "      <td>-1.353315</td>\n",
       "    </tr>\n",
       "  </tbody>\n",
       "</table>\n",
       "</div>"
      ],
      "text/plain": [
       "         x1        x2\n",
       "0  1.343250 -1.331148\n",
       "1  1.820553 -0.634668\n",
       "2  0.986321 -1.888576\n",
       "3  1.944373 -1.635452\n",
       "4  0.976734 -1.353315"
      ]
     },
     "execution_count": 3,
     "metadata": {},
     "output_type": "execute_result"
    }
   ],
   "source": [
    "df_x.head(5)"
   ]
  },
  {
   "cell_type": "markdown",
   "metadata": {},
   "source": [
    "Add column of 1 to x for intercept"
   ]
  },
  {
   "cell_type": "code",
   "execution_count": 4,
   "metadata": {},
   "outputs": [],
   "source": [
    "x = np.hstack([np.ones((df_x.shape[0], 1)), df_x[[\"x1\",\"x2\"]].values])\n",
    "y = df_y[\"y\"].values"
   ]
  },
  {
   "cell_type": "code",
   "execution_count": 5,
   "metadata": {},
   "outputs": [
    {
     "name": "stdout",
     "output_type": "stream",
     "text": [
      "[[ 1.          1.3432504  -1.3311479 ]\n",
      " [ 1.          1.8205529  -0.6346681 ]\n",
      " [ 1.          0.98632067 -1.8885762 ]\n",
      " [ 1.          1.9443734  -1.635452  ]\n",
      " [ 1.          0.97673352 -1.3533151 ]\n",
      " [ 1.          1.9458584  -2.0443278 ]\n",
      " [ 1.          2.1075153  -2.1256684 ]\n",
      " [ 1.          2.070373   -2.4634101 ]\n",
      " [ 1.          0.86864964 -2.4119348 ]\n",
      " [ 1.          1.8006594  -2.7739689 ]\n",
      " [ 1.          3.1283787  -3.4452432 ]\n",
      " [ 1.          3.0947429  -3.6446145 ]\n",
      " [ 1.          2.9086652  -4.0065037 ]\n",
      " [ 1.          2.6770338  -3.0198592 ]\n",
      " [ 1.          2.7458671  -2.7100561 ]\n",
      " [ 1.          4.1714647  -3.4622482 ]\n",
      " [ 1.          3.931322   -2.1099044 ]\n",
      " [ 1.          4.378687   -2.3804743 ]\n",
      " [ 1.          4.8016565  -3.3803344 ]\n",
      " [ 1.          4.166105   -2.8138844 ]\n",
      " [ 1.          2.4670141  -1.6108444 ]\n",
      " [ 1.          3.4826743  -1.5533872 ]\n",
      " [ 1.          3.3652482  -1.8164936 ]\n",
      " [ 1.          2.8772788  -1.8511689 ]\n",
      " [ 1.          3.1090444  -1.6384946 ]\n",
      " [ 1.          2.2183701   0.07427956]\n",
      " [ 1.          1.9949873   0.16268659]\n",
      " [ 1.          2.9500308   0.01687302]\n",
      " [ 1.          2.0216009   0.17227387]\n",
      " [ 1.          2.0486921  -0.63581041]\n",
      " [ 1.          0.87548563 -0.54586168]\n",
      " [ 1.          0.57079941 -0.03327866]\n",
      " [ 1.          1.4266468  -0.75288337]\n",
      " [ 1.          0.72265633 -0.8669193 ]\n",
      " [ 1.          0.95346198 -1.4896956 ]\n",
      " [ 1.          4.8333333   0.07017544]\n",
      " [ 1.          4.3070175   1.4152047 ]\n",
      " [ 1.          6.0321637   0.4502924 ]\n",
      " [ 1.          5.4181287  -2.7076023 ]\n",
      " [ 1.          3.4590643  -2.8245614 ]\n",
      " [ 1.          2.7280702  -0.92397661]\n",
      " [ 1.          1.002924    0.77192982]\n",
      " [ 1.          3.6637427  -0.77777778]\n",
      " [ 1.          4.3070175  -1.0409357 ]\n",
      " [ 1.          3.6929825  -0.10526316]\n",
      " [ 1.          5.7397661  -1.625731  ]\n",
      " [ 1.          4.9795322  -1.5087719 ]\n",
      " [ 1.          6.5        -2.9122807 ]\n",
      " [ 1.          5.2426901   0.91812865]\n",
      " [ 1.          1.6754386   0.56725146]\n",
      " [ 1.          5.1708997   1.2103667 ]\n",
      " [ 1.          4.8795188   1.6081848 ]\n",
      " [ 1.          4.664987    1.0695532 ]\n",
      " [ 1.          4.4934321   1.2351592 ]\n",
      " [ 1.          4.1512967   0.8672126 ]\n",
      " [ 1.          3.717708    1.15172   ]\n",
      " [ 1.          3.6224477   1.3106769 ]\n",
      " [ 1.          3.0606943   1.4857163 ]\n",
      " [ 1.          7.0718465  -0.34961651]\n",
      " [ 1.          6.0391832  -0.24756832]\n",
      " [ 1.          6.674748   -0.12484766]\n",
      " [ 1.          6.8461291   0.25977167]\n",
      " [ 1.          6.4270724  -0.14713863]\n",
      " [ 1.          6.8456065   1.4754967 ]\n",
      " [ 1.          7.7054006   1.6045555 ]\n",
      " [ 1.          6.2870658   2.4156427 ]\n",
      " [ 1.          6.9810956   1.2599865 ]\n",
      " [ 1.          7.0990172   2.2155151 ]\n",
      " [ 1.          5.5275479   0.29968421]\n",
      " [ 1.          5.8303489  -0.21974408]\n",
      " [ 1.          6.3594527   0.23944217]\n",
      " [ 1.          6.1004524  -0.04095741]\n",
      " [ 1.          5.6237412   0.37135914]\n",
      " [ 1.          5.8836969   2.7768186 ]\n",
      " [ 1.          5.5781611   3.0682889 ]\n",
      " [ 1.          7.0050662  -0.25781727]\n",
      " [ 1.          4.4538114   0.83941831]\n",
      " [ 1.          5.6495924   1.3053929 ]\n",
      " [ 1.          4.6337489   1.9467546 ]\n",
      " [ 1.          3.6986847   2.2594084 ]\n",
      " [ 1.          4.1193005   2.547451  ]\n",
      " [ 1.          4.7665558   2.7531209 ]\n",
      " [ 1.          3.0812098   2.7985255 ]\n",
      " [ 1.          4.0730994  -3.0292398 ]\n",
      " [ 1.          3.4883041  -1.8888889 ]\n",
      " [ 1.          0.76900585  1.2105263 ]\n",
      " [ 1.          1.5         3.8128655 ]\n",
      " [ 1.          5.7982456  -2.0935673 ]\n",
      " [ 1.          6.8114529  -0.8345673 ]\n",
      " [ 1.          7.1106096  -1.0201158 ]\n",
      " [ 1.          7.494152   -1.7426901 ]\n",
      " [ 1.          3.1374269   0.42105263]\n",
      " [ 1.          1.6754386   0.50877193]\n",
      " [ 1.          2.494152   -0.86549708]\n",
      " [ 1.          4.7748538   0.09941521]\n",
      " [ 1.          5.8274854  -0.69005848]\n",
      " [ 1.          2.2894737   1.9707602 ]\n",
      " [ 1.          2.494152    1.4152047 ]\n",
      " [ 1.          2.0847953   1.3567251 ]]\n"
     ]
    }
   ],
   "source": [
    "print(x)"
   ]
  },
  {
   "cell_type": "markdown",
   "metadata": {},
   "source": [
    "We define the loss function of a logistic regression as\n",
    "\n",
    "$$\n",
    "J(\\theta) = \\frac{1}{m} \\sum_{i=1}^m \\log(1+e^{-y^i \\theta^T x^i}) = -\\frac{1}{m} \\sum_{i=1}^m \\log(h_{\\theta}(y^i x^i))\n",
    "$$\n"
   ]
  },
  {
   "cell_type": "markdown",
   "metadata": {},
   "source": [
    "Therefore, we find that the gradient of the loss function is\n",
    "\n",
    "$$\n",
    "\\frac{\\partial}{\\partial \\theta_j} J(\\theta)=-\\frac{1}{m}.\\sum_{i=1}^m (1-h_{\\theta}(y^i x^i)).y^i.x_j^i\n",
    "$$"
   ]
  },
  {
   "cell_type": "markdown",
   "metadata": {},
   "source": [
    "We define the sigmoid and gradient of the loss functions as the following"
   ]
  },
  {
   "cell_type": "code",
   "execution_count": 6,
   "metadata": {},
   "outputs": [],
   "source": [
    "def logistic(x):\n",
    "    return 1/(1+np.exp(-x))\n",
    "\n",
    "def grad_loss(theta, x, y):\n",
    "    z = y*x.dot(theta)\n",
    "    return -np.mean((1-logistic(z))*y*x.T, axis=1)"
   ]
  },
  {
   "cell_type": "markdown",
   "metadata": {},
   "source": [
    "The Hessian can also be defined as:\n",
    "\n",
    "$$\n",
    "\\begin{align*}\n",
    "H_{j,k}\n",
    "&= \\frac{1}{m}.\\sum_{i=1}^m h_{\\theta}(y^i x^i).(1-h_{\\theta}(y^i x^i)).x_j^i.x_k^i\n",
    "\\end{align*}\n",
    "$$\n",
    "\n"
   ]
  },
  {
   "cell_type": "code",
   "execution_count": 7,
   "metadata": {},
   "outputs": [],
   "source": [
    "\n",
    "def hess_loss(theta, x, y):\n",
    "    hess = np.zeros((x.shape[1], x.shape[1]))\n",
    "    z = y*x.dot(theta)\n",
    "    for i in range(hess.shape[0]):\n",
    "        for j in range(hess.shape[0]):\n",
    "            if i <= j:\n",
    "                hess[i][j] = np.mean(logistic(z)*(1-logistic(z))*x[:,i]*x[:,j])\n",
    "                if i != j:\n",
    "                    hess[j][i] = hess[i][j] \n",
    "    return hess"
   ]
  },
  {
   "cell_type": "markdown",
   "metadata": {},
   "source": [
    "The Newton-Rhapson method can be defined as:\n",
    "\n",
    "$$\n",
    "\\begin{align*}\n",
    "    \\theta := \\theta - H^{-1} \\nabla_{\\theta} J(\\theta)\n",
    "\\end{align*}\n",
    "$$\n",
    "\n",
    "Therefore, we define our NR function as"
   ]
  },
  {
   "cell_type": "code",
   "execution_count": 8,
   "metadata": {},
   "outputs": [],
   "source": [
    "def newton(theta0, x, y, G, H, eps):\n",
    "    count = 0\n",
    "    theta = theta0\n",
    "    delta = 1\n",
    "    while delta > eps:\n",
    "        theta_prev = theta.copy()\n",
    "        theta -= np.linalg.inv(H(theta, x, y)).dot(G(theta, x, y))\n",
    "        delta = np.linalg.norm(theta-theta_prev, ord=1)\n",
    "        count += 1\n",
    "#         if (count%1 == 0):\n",
    "        print('Count: %i Loss: %.5f'% (count, delta))\n",
    "    return theta"
   ]
  },
  {
   "cell_type": "markdown",
   "metadata": {},
   "source": [
    "Start training"
   ]
  },
  {
   "cell_type": "code",
   "execution_count": 9,
   "metadata": {},
   "outputs": [
    {
     "name": "stdout",
     "output_type": "stream",
     "text": [
      "Count: 1 Loss: 2.56655\n",
      "Count: 2 Loss: 1.25497\n",
      "Count: 3 Loss: 0.60910\n",
      "Count: 4 Loss: 0.11839\n",
      "Count: 5 Loss: 0.00381\n",
      "Count: 6 Loss: 0.00000\n",
      "Count: 7 Loss: 0.00000\n"
     ]
    }
   ],
   "source": [
    "# Initialize theta0\n",
    "theta0 = np.zeros(x.shape[1])\n",
    "\n",
    "# Run Newton's method\n",
    "theta_final = newton(theta0,x,y,grad_loss,hess_loss,1e-6)"
   ]
  },
  {
   "cell_type": "code",
   "execution_count": 10,
   "metadata": {},
   "outputs": [
    {
     "data": {
      "text/plain": [
       "array([-2.6205116 ,  0.76037154,  1.17194674])"
      ]
     },
     "execution_count": 10,
     "metadata": {},
     "output_type": "execute_result"
    }
   ],
   "source": [
    "theta_final"
   ]
  },
  {
   "cell_type": "code",
   "execution_count": 11,
   "metadata": {},
   "outputs": [
    {
     "data": {
      "text/html": [
       "<div>\n",
       "<style scoped>\n",
       "    .dataframe tbody tr th:only-of-type {\n",
       "        vertical-align: middle;\n",
       "    }\n",
       "\n",
       "    .dataframe tbody tr th {\n",
       "        vertical-align: top;\n",
       "    }\n",
       "\n",
       "    .dataframe thead th {\n",
       "        text-align: right;\n",
       "    }\n",
       "</style>\n",
       "<table border=\"1\" class=\"dataframe\">\n",
       "  <thead>\n",
       "    <tr style=\"text-align: right;\">\n",
       "      <th></th>\n",
       "      <th>y</th>\n",
       "      <th>x1</th>\n",
       "      <th>x2</th>\n",
       "    </tr>\n",
       "  </thead>\n",
       "  <tbody>\n",
       "    <tr>\n",
       "      <th>0</th>\n",
       "      <td>-1</td>\n",
       "      <td>1.343250</td>\n",
       "      <td>-1.331148</td>\n",
       "    </tr>\n",
       "    <tr>\n",
       "      <th>1</th>\n",
       "      <td>-1</td>\n",
       "      <td>1.820553</td>\n",
       "      <td>-0.634668</td>\n",
       "    </tr>\n",
       "    <tr>\n",
       "      <th>2</th>\n",
       "      <td>-1</td>\n",
       "      <td>0.986321</td>\n",
       "      <td>-1.888576</td>\n",
       "    </tr>\n",
       "    <tr>\n",
       "      <th>3</th>\n",
       "      <td>-1</td>\n",
       "      <td>1.944373</td>\n",
       "      <td>-1.635452</td>\n",
       "    </tr>\n",
       "    <tr>\n",
       "      <th>4</th>\n",
       "      <td>-1</td>\n",
       "      <td>0.976734</td>\n",
       "      <td>-1.353315</td>\n",
       "    </tr>\n",
       "  </tbody>\n",
       "</table>\n",
       "</div>"
      ],
      "text/plain": [
       "   y        x1        x2\n",
       "0 -1  1.343250 -1.331148\n",
       "1 -1  1.820553 -0.634668\n",
       "2 -1  0.986321 -1.888576\n",
       "3 -1  1.944373 -1.635452\n",
       "4 -1  0.976734 -1.353315"
      ]
     },
     "execution_count": 11,
     "metadata": {},
     "output_type": "execute_result"
    }
   ],
   "source": [
    "df_x.insert(0, \"y\", df_y)\n",
    "df_x[\"y\"] = pd.to_numeric(df_x[\"y\"],downcast='signed')\n",
    "df_x.head()"
   ]
  },
  {
   "cell_type": "code",
   "execution_count": 33,
   "metadata": {},
   "outputs": [
    {
     "data": {
      "image/png": "[encoded data removed]",
      "text/plain": [
       "<Figure size 432x288 with 1 Axes>"
      ]
     },
     "metadata": {
      "needs_background": "light"
     },
     "output_type": "display_data"
    }
   ],
   "source": [
    "\n",
    "# Generate variables to draw boundary decision\n",
    "x1_vec = np.linspace(df_x[\"x1\"].min(),df_x[\"x1\"].max(),2)\n",
    "\n",
    "# Plot raw data\n",
    "# sns.scatterplot(x=\"x1\", y=\"x2\", hue=\"y\", data=df_x);\n",
    "plt.scatter(df_x['x1'], df_x['x2'], c=df_x['y'], label = df_x['y'].unique(), cmap='Spectral')\n",
    "plt.legend()\n",
    "# Plot decision boundary\n",
    "\n",
    "plt.plot(x1_vec,(-x1_vec*theta_final[1]-theta_final[0])/theta_final[2], color=\"red\");"
   ]
  }
 ],
 "metadata": {
  "kernelspec": {
   "display_name": "Python (keras)",
   "language": "python",
   "name": "keras"
  },
  "language_info": {
   "codemirror_mode": {
    "name": "ipython",
    "version": 3
   },
   "file_extension": ".py",
   "mimetype": "text/x-python",
   "name": "python",
   "nbconvert_exporter": "python",
   "pygments_lexer": "ipython3",
   "version": "3.6.8"
  }
 },
 "nbformat": 4,
 "nbformat_minor": 2
}
